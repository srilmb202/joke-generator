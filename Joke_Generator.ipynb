{
 "cells": [
  {
   "cell_type": "code",
   "execution_count": 1,
   "metadata": {
    "id": "w-hyjs_do7hk"
   },
   "outputs": [],
   "source": [
    "import tensorflow as tf\n",
    "from tensorflow.keras.preprocessing.text import Tokenizer\n",
    "from tensorflow.keras.preprocessing.sequence import pad_sequences\n",
    "import numpy as np\n",
    "import pandas as pd\n",
    "import matplotlib.pyplot as plt"
   ]
  },
  {
   "cell_type": "markdown",
   "metadata": {
    "id": "h2Lzd5FqOAcy"
   },
   "source": [
    "### Define path for data file\n",
    "\n",
    "---"
   ]
  },
  {
   "cell_type": "code",
   "execution_count": 2,
   "metadata": {
    "id": "gL9z16qSpVcc"
   },
   "outputs": [],
   "source": [
    "jokes_df = pd.read_csv('jokes_base_data.csv')"
   ]
  },
  {
   "cell_type": "code",
   "execution_count": 3,
   "metadata": {
    "colab": {
     "base_uri": "https://localhost:8080/"
    },
    "id": "hH9fwhYmpnG3",
    "outputId": "21ded4e2-6048-4aa3-8ee7-6339aa9e9196"
   },
   "outputs": [
    {
     "name": "stdout",
     "output_type": "stream",
     "text": [
      "<class 'pandas.core.frame.DataFrame'>\n",
      "RangeIndex: 746 entries, 0 to 745\n",
      "Data columns (total 1 columns):\n",
      " #   Column  Non-Null Count  Dtype \n",
      "---  ------  --------------  ----- \n",
      " 0   Joke    746 non-null    object\n",
      "dtypes: object(1)\n",
      "memory usage: 6.0+ KB\n",
      "None\n"
     ]
    }
   ],
   "source": [
    "print(jokes_df.info())\n"
   ]
  },
  {
   "cell_type": "code",
   "execution_count": 4,
   "metadata": {
    "colab": {
     "base_uri": "https://localhost:8080/"
    },
    "id": "sgltGgrYq9js",
    "outputId": "1a457568-04c5-4f1d-ac38-7efa3ed1f092"
   },
   "outputs": [
    {
     "name": "stdout",
     "output_type": "stream",
     "text": [
      "Column Names: Index(['Joke'], dtype='object')\n"
     ]
    }
   ],
   "source": [
    "print(\"Column Names:\", jokes_df.columns)"
   ]
  },
  {
   "cell_type": "markdown",
   "metadata": {
    "id": "r93CZ3BrOPfD"
   },
   "source": [
    "### Converting the data into readable list format\n",
    "\n",
    "---"
   ]
  },
  {
   "cell_type": "code",
   "execution_count": 5,
   "metadata": {
    "id": "NKEq9Ph_rCFj"
   },
   "outputs": [],
   "source": [
    "jokes_list = jokes_df['Joke'].tolist()"
   ]
  },
  {
   "cell_type": "code",
   "execution_count": 6,
   "metadata": {
    "colab": {
     "base_uri": "https://localhost:8080/"
    },
    "id": "MbbWA4X8rF2O",
    "outputId": "1853fc69-6f65-4b85-9e50-7a985e46cf0a"
   },
   "outputs": [
    {
     "name": "stdout",
     "output_type": "stream",
     "text": [
      "[\"I'm tired of following my dreams. I'm just going to ask them where they are going and meet up with them later. \\t\", \"Did you hear about the guy whose whole left side was cut off? He's all right now. \\t\", 'Why didn’t the skeleton cross the road? Because he had no guts. \\t', \"What did one nut say as he chased another nut?  I'm a cashew! \\t\", 'Where do fish keep their money? In the riverbank \\t', 'I accidentally took my cats meds last night. Don’t ask meow. \\t', \"Chances are if you' ve seen one shopping center, you've seen a mall. \\t\", 'Dermatologists are always in a hurry. They spend all day making rash decisions.  \\t', \"I knew I shouldn't steal a mixer from work, but it was a whisk I was willing to take. \\t\", 'I won an argument with a weather forecaster once. His logic was cloudy... \\t', 'How come the stadium got hot after the game? Because all of the fans left. \\t', '\"Why do seagulls fly over the ocean?\" \"Because if they flew over the bay, we\\'d call them bagels.\" \\t', 'Why was it called the dark ages? Because of all the knights.  \\t', 'A steak pun is a rare medium well done. \\t', 'Why did the tomato blush? Because it saw the salad dressing. \\t', 'Did you hear the joke about the wandering nun? She was a roman catholic. \\t', 'What creature is smarter than a talking parrot? A spelling bee. \\t', \"I'll tell you what often gets over looked... garden fences. \\t\", 'Why did the kid cross the playground? To get to the other slide. \\t', \"Why do birds fly south for the winter? Because it's too far to walk. \\t\", \"What is a centipedes's favorite Beatle song?  I want to hold your hand, hand, hand, hand... \\t\", 'My first time using an elevator was an uplifting experience. The second time let me down. \\t', \"To be Frank, I'd have to change my name. \\t\", 'Slept like a log last night … woke up in the fireplace. \\t', 'What do you call a female snake. misssssssss  \\t', \"Why does a Moon-rock taste better than an Earth-rock? Because it's a little meteor. \\t\", 'I thought my wife was joking when she said she\\'d leave me if I didn\\'t stop signing \"I\\'m A Believer\"... Then I saw her face. \\t', 'I’m only familiar with 25 letters in the English language. I don’t know why. \\t', 'What do you call two barracuda fish?  A Pairacuda! \\t', 'What did the father tomato say to the baby tomato whilst on a family walk? Ketchup. \\t', 'Why is Peter Pan always flying? Because he Neverlands. \\t', 'What do you do on a remote island? Try and find the TV island it belongs to. \\t', \"Did you know that protons have mass? I didn't even know they were catholic. \\t\", 'Dad I’m hungry’ … ‘Hi hungry I’m dad \\t', \"I was fired from the keyboard factory yesterday.  I wasn't putting in enough shifts. \\t\", 'Whoever invented the knock-knock joke should get a no bell prize. \\t', 'Wife: Honey I’m pregnant.  Me: Well…. what do we do now?  Wife: Well, I guess we should go to a baby doctor.  Me: Hm.. I think I’d be a lot more comfortable going to an adult doctor. \\t', 'Have you heard the story about the magic tractor? It drove down the road and turned into a field. \\t', \"When will the little snake arrive? I don't know but he won't be long... \\t\", \"Why was Pavlov's beard so soft?  Because he conditioned it. \\t\", 'Do I enjoy making courthouse puns? Guilty \\t', 'Why did the kid throw the clock out the window? He wanted to see time fly! \\t', 'Hear about the new restaurant called Karma? There’s no menu: You get what you deserve. \\t', \"Why couldn't the kid see the pirate movie? Because it was rated arrr! \\t\", 'It was so cold yesterday my computer froze. My own fault though, I left too many windows open. \\t', 'Man, I really love my furniture... me and my recliner go way back. \\t', 'What did the traffic light say to the car as it passed? \"Don\\'t look I\\'m changing!\" \\t', 'My son is studying to be a surgeon, I just hope he makes the cut. \\t', 'Why did the man run around his bed? Because he was trying to catch up on his sleep! \\t', \"What did one wall say to the other wall? I'll meet you at the corner! \\t\", 'Sometimes I tuck my knees into my chest and lean forward.  That’s just how I roll. \\t', 'I once lost a banana at court but then I appealed.  \\t', 'Conjunctivitis.com – now that’s a site for sore eyes. \\t', 'How many South Americans does it take to change a lightbulb? A Brazilian \\t', \"I don't trust stairs. They're always up to something. \\t\", 'What do you call two guys hanging out by your window? Kurt & Rod. \\t', 'Why was the robot angry? Because someone kept pressing his buttons! \\t', \"Which is the fastest growing city in the world? Dublin' \\t\", 'A police officer caught two kids playing with a firework and a car battery. He charged one and let the other one off. \\t', 'What do you call a snake who builds houses? A boa constructor! \\t', \"What is the difference between ignorance and apathy?  I don't know and I don't care. \\t\", 'I went to a Foo Fighters Concert once... It was Everlong... \\t', 'Why did the sentence fail the driving test? It never came to a full stop. \\t', \"Some people eat light bulbs. They say it's a nice light snack. \\t\", \"What's the difference between a rooster and a crow? A rooster can crow but a crow cannot rooster. \\t\", \"I went to the store to pick up eight cans of sprite... when I got home I realized I'd only picked seven up \\t\", 'I cut my finger chopping cheese, but I think that I may have grater problems. \\t', 'Yesterday, I accidentally swallowed some food coloring. The doctor says I’m okay, but I feel like I’ve dyed a little inside. \\t', 'When people are sad, I sometimes let them colour in my tattoos. Sometimes all they need is a shoulder to crayon. \\t', 'Last night me and my girlfriend watched three DVDs back to back. Luckily I was the one facing the TV. \\t', \"I got a reversible jacket for Christmas, I can't wait to see how it turns out. \\t\", 'What do you get when you cross a pig and a pineapple? A porky pine \\t', 'What did Romans use to cut pizza before the rolling cutter was invented? Lil Caesars \\t', 'Why did the banana go to the doctor? He was not \"peeling\" well. \\t', \"My pet mouse 'Elvis' died last night. He was caught in a trap.. \\t\", 'Never take advice from electrons. They are always negative. \\t', 'Why are oranges the smartest fruit? Because they are made to concentrate.  \\t', 'A girl once asked me what my heart desired, apparently blood, oxygen and neural messages were all wrong answers \\t', 'Why is it always hot in the corner of a room? Because a corner is 90 degrees. \\t', \"What did the beaver say to the tree? It's been nice gnawing you. \\t\", 'How do you fix a damaged jack-o-lantern? You use a pumpkin patch. \\t', 'Why do cows not have toes? They lactose! \\t', 'What did the late tomato say to the early tomato? I’ll ketch up \\t', 'I have kleptomania, but when it gets bad, I take something for it. \\t', \"I used to be addicted to soap, but I'm clean now. \\t\", \"When is a door not a door? When it's ajar. \\t\", 'I made a belt out of watches once... It was a waist of time. \\t', 'Why did Mozart kill all his chickens? Because when he asked them who the best composer was, they\\'d all say \"Bach bach bach!\"  \\t', 'This furniture store keeps emailing me, all I wanted was one night stand! \\t', 'How do you find Will Smith in the snow?  Look for fresh prints. \\t', \"My sister bet me $15 that I couldn't build a car out of spaghetti. You should have seen the look on her face as I drove pasta. \\t\", 'My boss told me to have a good day... so I went home. \\t', 'I just read a book about Stockholm syndrome. It was pretty bad at first, but by the end I liked it. \\t', \"Why do trees seem suspicious on sunny days? Dunno, they're just a bit shady. \\t\", \"If at first you don't succeed, sky diving is not for you! \\t\", \"I'd like to start a diet, but I've got too much on my plate right now. \\t\", 'What did the drummer name her twin daughters? Anna One, Anna Two... \\t', \"What kind of music do mummy's like? Rap \\t\", 'I remember when I was a kid, I opened my fridge and noticed one of my vegetables were crying. I guess I have some emotional cabbage. \\t', \"What's large, grey, and doesn't matter? An irrelephant.  \\t\", 'Frankenstein enters a bodybuilding competition and finds he has seriously misunderstood the objective. \\t', 'A book just fell on my head. I only have my shelf to blame. \\t', 'What did the dog say to the two trees? Bark bark. \\t', \"I've got a joke about vegetables for you... but it's a bit corny. \\t\", 'If a child refuses to sleep during nap time, are they guilty of resisting a rest? \\t', \"Why can't your nose be 12 inches long? Because then it'd be a foot! \\t\", 'Have you ever heard of a music group called Cellophane? They mostly wrap. \\t', 'What do you call a boy who stopped digging holes? Douglas. \\t', 'What did the mountain climber name his son? Cliff. \\t', \"Why should you never trust a pig with a secret? Because it's bound to squeal. \\t\", \"Why are mummys scared of vacation? They're afraid to unwind. \\t\", 'Whiteboards ... are remarkable. \\t', 'What kind of dinosaur loves to sleep? A stega-snore-us. \\t', 'What has three letters and starts with gas? A Car. \\t', 'What’s Forest Gump’s Facebook password? 1forest1 \\t', 'What kind of tree fits in your hand? A palm tree! \\t', 'Whenever the cashier at the grocery store asks my dad if he would like the milk in a bag he replies, ‘No, just leave it in the carton!’ \\t', 'I used to be addicted to the hokey pokey, but I turned myself around. \\t', 'How many tickles does it take to tickle an octopus? Ten-tickles! \\t', \"Me: If humans lose the ability to hear high frequency volumes as they get older, can my 4 week old son hear a dog whistle?  Doctor: No, humans can never hear that high of a frequency no matter what age they are.  Me: Trick question... dogs can't whistle. \\t\", 'What musical instrument is found in the bathroom? A tuba toothpaste. \\t', \"I can't take my dog to the pond anymore because the ducks keep attacking him. That's what I get for buying a pure bread dog. \\t\", 'My boss told me to attach two pieces of wood together... I totally nailed it! \\t', 'What was the pumpkin’s favorite sport?  Squash. \\t', \"Recent survey revealed 6 out of 7 dwarf's aren't happy. \\t\", 'What do you call corn that joins the army? Kernel. \\t', \"I've been trying to come up with a dad joke about momentum . . . but I just can't seem to get it going. \\t\", '‘Put the cat out’ … ‘I didn’t realize it was on fire \\t', \"Why don't skeletons ride roller coasters? They don't have the stomach for it. \\t\", 'Is there a hole in your shoe? No… Then how’d you get your foot in it? \\t', 'Every night at 11:11, I make a wish that someone will come fix my broken clock. \\t', 'Two muffins were sitting in an oven, and the first looks over to the second, and says, “man, it’s really hot in here”. The second looks over at the first with a surprised look, and answers, “WHOA, a talking muffin!” \\t', 'What\\'s the difference between a guitar and a fish? You can tune a guitar but you can\\'t \"tuna\" fish! \\t', 'Did you hear that the police have a warrant out on a midget psychic ripping people off? It reads “Small medium at large.” \\t', \"Why don't sharks eat clowns?  Because they taste funny. \\t\", 'Just read a few facts about frogs. They were ribbiting. \\t', \"Two satellites decided to get married. The wedding wasn't much, but the reception was incredible. \\t\", 'What do you call a fish with no eyes? A fsh. \\t', 'What do you get if you put a duck in a cement mixer? Quacks in the pavement. \\t', 'They tried to make a diamond shaped like a duck. It quacked under the pressure. \\t', 'Where’s the bin? Dad: I haven’t been anywhere! \\t', 'My wife said I was immature. So I told her to get out of my fort. \\t', 'Why did the knife dress up in a suit? Because it wanted to look sharp \\t', 'How do you make a water bed more bouncy. You use Spring Water \\t', \"I considered building the patio by myself. But I didn't have the stones. \\t\", 'In my career as a lumberjack I cut down exactly 52,487 trees. I know because I kept a log. \\t', 'Why do bears have hairy coats? Fur protection. \\t', 'What do you get when you cross a bee and a sheep? A bah-humbug.  \\t', 'What did one snowman say to the other snow man? Do you smell carrot? \\t', '\"Dad, do you think it\\'s going to snow this winter?\" \"I dont know, its all up in the air\" \\t', \"Why do bees hum? Because they don't know the words. \\t\", 'What do you call a troublesome Canadian high schooler? A poutine. \\t', 'A magician was driving down the street and then he turned into a driveway. \\t', \"Don't trust atoms. They make up everything. \\t\", \"If you walk into a forest and cut down a tree, but the tree doesn't understand why you cut it down, do you think it's stumped? \\t\", 'Where do bees go to the bathroom?  The BP station. \\t', 'What is the best way to carve? Whittle by whittle. \\t', \"What's a ninja's favorite type of shoes? Sneakers! \\t\", 'Why did the tree go to the dentist? It needed a root canal. \\t', 'It was raining cats and dogs the other day. I almost stepped in a poodle. \\t', 'Why do bananas have to put on sunscreen before they go to the beach? Because they might peel! \\t', 'What do you call a bee that lives in America? A USB. \\t', 'I was wondering why the frisbee was getting bigger, then it hit me. \\t', 'A farmer had 297 cows, when he rounded them up, he found he had 300 \\t', \"What's the difference between a hippo and a zippo? One is really heavy, the other is a little lighter. \\t\", 'I’ve got this disease where I can’t stop making airport puns. The doctor says it terminal. \\t', \"Somebody stole my Microsoft Office and they're going to pay - you have my Word. \\t\", 'What concert costs only 45 cents? 50 cent featuring Nickelback. \\t', \"I couldn't figure out how the seat belt worked. Then it just clicked. \\t\", 'What did the green grape say to the purple grape? BREATH!! \\t', 'What do you call a dad that has fallen through the ice? A Popsicle. \\t', 'Two parrots are sitting on a perch. One turns to the other and asks, \"do you smell fish?\" \\t', 'Bad at golf? Join the club. \\t', 'I had a pair of racing snails. I removed their shells to make them more aerodynamic, but they became sluggish. \\t', 'What do you call a pile of cats?  A Meowtain. \\t', 'How do hens stay fit? They always egg-cercise! \\t', \"Can a kangaroo jump higher than the Empire State Building? Of course. The Empire State Building can't jump. \\t\", 'What do you give a sick lemon? Lemonaid. \\t', 'What do you call an old snowman? Water. \\t', 'I tried to milk a cow today, but was unsuccessful. Udder failure. \\t', 'I just got fired from a florist, apparently I took too many leaves. \\t', 'Why don’t skeletons ever go trick or treating? Because they have nobody to go with. \\t', 'What does a female snake use for support? A co-Bra! \\t', '\"Dad, I\\'m cold.\" \"Go stand in the corner, I hear it\\'s 90 degrees.\" \\t', \"Child: Dad, make me a sandwich. Dad: Poof! You're a sandwich. \\t\", 'which flower is most fierce? Dandelion \\t', 'Why are graveyards so noisy? Because of all the coffin. \\t', 'What kind of bagel can fly? A plain bagel. \\t', 'How many apples grow on a tree? All of them! \\t', 'What do you call a careful wolf? Aware wolf. \\t', 'I was just looking at my ceiling. Not sure if it’s the best ceiling in the world, but it’s definitely up there. \\t', \"Why do valley girls hang out in odd numbered groups? Because they can't even. \\t\", '“My Dog has no nose.” “How does he smell?” “Awful” \\t', 'What do you call a cow with no legs? Ground beef. \\t', \"Why are snake races so exciting? They're always neck and neck. \\t\", \"Why did the half blind man fall in the well? Because he couldn't see that well! \\t\", 'As I suspected, someone has been adding soil to my garden. The plot thickens. \\t', 'What do bees do after they are married? They go on a honeymoon. \\t', \"If I could name myself after any Egyptian god, I'd be Set. \\t\", \"Why doesn't the Chimney-Sweep call out sick from work? Because he's used to working with a flue. \\t\", 'It’s hard to explain puns to kleptomaniacs, because they take everything literally. \\t', \"It's difficult to say what my wife does, she sells sea shells by the sea shore. \\t\", 'Why did Dracula lie in the wrong coffin? He made a grave mistake. \\t', 'What did one plate say to the other plate? Dinner is on me! \\t', 'what do you call a dog that can do magic tricks? a labracadabrador \\t', \"Doctor: Do you want to hear the good news or the bad news? Patient: Good news please. Doctor: we're naming a disease after you. \\t\", 'Atheism is a non-prophet organisation. \\t', 'I tried to write a chemistry joke, but could never get a reaction. \\t', 'I gave my friend 10 puns hoping that one of them would make him laugh. Sadly, no pun in ten did. \\t', 'What do computers and air conditioners have in common? They both become useless when you open windows. \\t', 'What do you call a monkey in a mine field? A babooooom!  \\t', \"Scientists finally did a study on forks. It's about tine! \\t\", 'I cut my finger cutting cheese. I know it may be a cheesy story but I feel grate now. \\t', 'How do you steal a coat? You jacket. \\t', \"Why don't you find hippopotamuses hiding in trees? They're really good at it. \\t\", 'what happens when you cross a sheep with a kangaroo ? A woolly jumper! \\t', 'I’m reading a book on the history of glue – can’t put it down. \\t', \"Want to hear a joke about construction? Nah, I'm still working on it. \\t\", 'My friend told me that pepper is the best seasoning for a roast, but I took it with a grain of salt. \\t', 'Just watched a documentary about beavers… It was the best damn program I’ve ever seen. \\t', 'Why do choirs keep buckets handy? So they can carry their tune \\t', \"Did you hear about the kidnapping at school? It's ok, he woke up. \\t\", \"I asked my date to go to the gym the other day. They never showed up. That's when I knew we wouldn't work out. \\t\", 'You will never guess what Elsa did to the balloon. She let it go. \\t', 'Did you hear about the two thieves who stole a calendar? They each got six months. \\t', 'Waking up this morning was an eye-opening experience. \\t', \"Why can't eggs have love? They will break up too soon. \\t\", \"You can't run through a camp site. You can only ran, because it's past tents. \\t\", \"They're making a movie about clocks. It's about time \\t\", 'I’ve just been reading a book about anti-gravity, it’s impossible to put down! \\t', 'Archaeology really is a career in ruins. \\t', \"Have you ever seen fruit preserves being made? It's jarring. \\t\", 'I was going to get a brain transplant, but I changed my mind \\t', 'Have you heard about the owl sanctuary job opening? It’s all night shifts but they’re all a hoot over there. \\t', 'I boiled a funny bone last night and had a laughing stock \\t', 'Why can\\'t you use \"Beef stew\" as a password? Because it\\'s not stroganoff. \\t', 'Animal Fact #25: Most bobcats are not named bob. \\t', 'What did the piece of bread say to the knife? Butter me up. \\t', \"Why couldn't the lifeguard save the hippie? He was too far out, man. \\t\", 'They say Dodger Stadium can hold up to fifty-six thousand people, but that is just a ballpark figure. \\t', 'Some people say that I never got over my obsession with Phil Collins. But take a look at me now. \\t', 'Why did the girl smear peanut butter on the road? To go with the traffic jam. \\t', 'It takes guts to be an organ donor. \\t', 'The rotation of earth really makes my day. \\t', 'How much does a hipster weigh? An instagram. \\t', 'A woman is on trial for beating her husband to death with his guitar collection. Judge says, ‘First offender?’ She says, ‘No, first a Gibson! Then a Fender!’ \\t', 'I saw an ad in a shop window, \"Television for sale, $1, volume stuck on full\", I thought, \"I can\\'t turn that down\". \\t', 'What kind of dog lives in a particle accelerator? A Fermilabrador Retriever. \\t', 'I always wanted to look into why I procrastinate, but I keep putting it off.  \\t', \"What's blue and not very heavy?  Light blue. \\t\", 'Guy told me today he did not know what cloning is. I told him, \"that makes 2 of us.\" \\t', 'I was so proud when I finished the puzzle in six months, when on the side it said three to four years. \\t', 'Where did you learn to make ice cream? Sunday school. \\t', 'Coffee has a tough time at my house, every morning it gets mugged. \\t', 'A quick shoutout to all of the sidewalks out there... Thanks for keeping me off the streets. \\t', 'Where does Napoleon keep his armies? In his sleevies. \\t', \"What's the difference between roast beef and pea soup. Anyone can roast beef, but nobody can pee soup. \\t\", \"Leather is great for sneaking around because it's made of hide. \\t\", 'What do you get if you cross a turkey with a ghost? A poultry-geist! \\t', 'People are making apocalypse jokes like there’s no tomorrow. \\t', 'What is the tallest building in the world? The library – it’s got the most stories! \\t', 'What kind of magic do cows believe in? MOODOO. \\t', 'What’s the longest word in the dictionary? Smiles. Because there’s a mile between the two S’s. \\t', \"Why don't eggs tell jokes? They'd crack each other up \\t\", \"I just broke my guitar. It's okay, I won't fret \\t\", \"It's only a murder of crows if there's probable caws. \\t\", \"How many kids with ADD does it take to change a lightbulb? Let's go ride bikes! \\t\", 'Where do hamburgers go to dance? The meat-ball. \\t', 'I invented a new word! Plagiarism! \\t', 'Did you know that ghosts call their true love their ghoul-friend? \\t', 'What do you call a cow with two legs? Lean beef. \\t', 'What did the big flower say to the littler flower? Hi, bud! \\t', ' I never wanted to believe that my Dad was stealing from his job as a road worker. But when I got home, all the signs were there.   \\t', 'Why do pumpkins sit on people’s porches?  They have no hands to knock on the door. \\t', 'Who is the coolest Doctor in the hospital? The hip Doctor! \\t', 'Why was ten scared of seven? Because seven ate nine. \\t', 'What do you get when you cross a rabbit with a water hose? Hare spray. \\t', \"I applied to be a doorman but didn't get the job due to lack of experience. That surprised me, I thought it was an entry level position. \\t\", 'I knew a guy who collected candy canes, they were all in mint condition \\t', 'A boy dug three holes in the yard. When his mother saw, she exclaimed: \"well, well, well\" \\t', 'Why do nurses carry around red crayons? Sometimes they need to draw blood. \\t', 'Why was the shirt happy to hang around the tank top? Because it was armless \\t', 'Why does a chicken coop only have two doors? Because if it had four doors it would be a chicken sedan. \\t', '\"I\\'ll call you later.\" Don\\'t call me later, call me Dad. \\t', 'Why did the teddy bear say “no” to dessert? Because she was stuffed. \\t', \"I don't trust sushi, there's something fishy about it. \\t\", 'New atoms frequently lose electrons when they fail to keep an ion them. \\t', 'Did you hear the one about the giant pickle?  He was kind of a big dill. \\t', 'Breaking news! Energizer Bunny arrested – charged with battery. \\t', 'How many bones are in the human hand? A handful of them. \\t', 'A red and a blue ship have just collided in the Caribbean. Apparently the survivors are marooned. \\t', \"I've just written a song about a tortilla. Well, it is more of a rap really. \\t\", 'Can February march? No, but April may. \\t', 'So a duck walks into a pharmacy and says “Give me some chap-stick… and put it on my bill” \\t', 'Egyptians claimed to invent the guitar, but they were such lyres.\\ufeff \\t', 'Toasters were the first form of pop-up notifications. \\t', \"What is a witch's favorite subject in school? Spelling! \\t\", 'What do you call a crowd of chess players bragging about their wins in a hotel lobby? Chess nuts boasting in an open foyer. \\t', 'Which side of the chicken has more feathers? The outside. \\t', 'Remember, the best angle to approach a problem from is the \"try\" angle. \\t', 'Why are fish easy to weigh? Because they have their own scales. \\t', 'What did the scarf say to the hat? You go on ahead, I am going to hang around a bit longer. \\t', 'Did you hear about the scientist who was lab partners with a pot of boiling water? He had a very esteemed colleague. \\t', 'This morning I was wondering where the sun was, but then it dawned on me. \\t', 'Writing with a broken pencil is pointless. \\t', 'What did the sea say to the sand? \"We have to stop meeting like this.\" \\t', 'Why is it so windy inside an arena? All those fans. \\t', 'A panda walks into a bar and says to the bartender “I’ll have a Scotch and . . . . . . . . . . . . . . Coke thank you”.   “Sure thing” the bartender replies and asks “but what’s with the big pause?”   The panda holds up his hands and says “I was born with them” \\t', \"I've started telling everyone about the benefits of eating dried grapes. It's all about raisin awareness. \\t\", '“Doctor, I’ve broken my arm in several places” Doctor “Well don’t go to those places.” \\t', 'Where was the Declaration of Independence signed?  At the bottom!  \\t', 'What’s the difference between an African elephant and an Indian elephant? About 5000 miles. \\t', 'Two peanuts were walking down the street. One was a salted \\t', 'Don’t interrupt someone working intently on a puzzle. Chances are, you’ll hear some crosswords. \\t', 'Today a man knocked on my door and asked for a small donation towards the local swimming pool. I gave him a glass of water. \\t', 'What did the Zen Buddist say to the hotdog vendor? Make me one with everything. \\t', 'Why did the clown have neck pain? - Because he slept funny \\t', 'What did the digital clock say to the grandfather clock? Look, no hands! \\t', 'A weasel walks into a bar. The bartender says, \"Wow, I\\'ve never served a weasel before. What can I get for you?\" \"Pop,\" goes the weasel. \\t', 'How was the snow globe feeling after the storm? A little shaken. \\t', 'Did you hear the one about the guy with the broken hearing aid? Neither did he. \\t', 'Did you hear about the campsite that got visited by Bigfoot? It got in tents. \\t', 'I saw a documentary on TV last night about how they put ships together.  It was rivetting. \\t', \"What did the Red light say to the Green light? Don't look at me I'm changing! \\t\", 'What did the ocean say to the beach? Thanks for all the sediment. \\t', 'What did the left eye say to the right eye? Between us, something smells! \\t', 'What do you call a fly without wings? A walk. \\t', 'Why did the melons plan a big wedding? Because they cantaloupe! \\t', 'Yesterday I confused the words \"jacuzzi\" and \"yakuza\". Now I\\'m in hot water with the Japanese mafia. \\t', 'What is the least spoken language in the world? Sign Language \\t', 'What do birds give out on Halloween? Tweets. \\t', \"I used to think I was indecisive, but now I'm not sure. \\t\", 'Velcro… What a rip-off. \\t', \"Have you heard the rumor going around about butter? Never mind, I shouldn't spread it. \\t\", \"Every morning when I go out, I get hit by bicycle. Every morning!  It's a vicious cycle. \\t\", \"What happens to a frog's car when it breaks down? It gets toad. \\t\", 'I fear for the calendar, its days are numbered.  \\t', \"I'm glad I know sign language, it's pretty handy. \\t\", \"The other day, my wife asked me to pass her lipstick but I accidentally passed her a glue stick. She still isn't talking to me. \\t\", 'What do you get when you cross a chicken with a skunk? A fowl smell! \\t', 'Where do you take someone who’s been injured in a peek-a-boo accident? To the I.C.U. \\t', \"As I get older, I think of all the people I lost along the way. Maybe a career as a tour guide wasn't such a good idea. \\t\", \"How many hipsters does it take to change a lightbulb? Oh, it's a really obscure number. You've probably never heard of it. \\t\", 'Where do sheep go to get their hair cut? The baa-baa shop. \\t', 'Our wedding was so beautiful, even the cake was in tiers. \\t', 'Why did the miner get fired from his job? He took it for granite... \\t', \"What did the hat say to the scarf? You can hang around. I'll just go on ahead.  \\t\", 'Where do cats write notes? Scratch Paper! \\t', 'Why is the new Kindle screen textured to look like paper? So you feel write at home. \\t', 'When my wife told me to stop impersonating a flamingo, I had to put my foot down. \\t', 'No matter how kind you are, German children are kinder. \\t', 'What’s the advantage of living in Switzerland? Well, the flag is a big plus. \\t', 'When I left school, I passed every one of my exams with the exception of Greek Mythology. It always was my achilles elbow \\t', 'Why did the cookie cry? It was feeling crumby. \\t', 'What did Yoda say when he saw himself in 4K? \"HDMI\" \\t', \"How do you make a 'one' disappear? You add a 'g' and it's 'gone' \\t\", \"Me and my mates are in a band called Duvet. We're a cover band. \\t\", 'Where do you learn to make banana splits? At sundae school. \\t', \"Nurse: Doctor, there's a patient that says he's invisible. Doctor: Well, tell him I can't see him right now! \\t\", 'What was a more important invention than the first telephone? The second one. \\t', 'What do you get when you cross a snowman with a vampire? Frostbite. \\t', 'What do you do when your bunny gets wet? You get your hare dryer. \\t', 'Did you know crocodiles could grow up to 15 feet? But most just have 4. \\t', 'There are two types of people in this world, those who can extrapolate from incomplete data... \\t', 'Why did the fireman wear red, white, and blue suspenders? To hold his pants up. \\t', \"In the news a courtroom artist was arrested today, I'm not surprised, he always seemed sketchy. \\t\", \"I wanted to be a tailor but I didn't suit the job \\t\", 'What do you call someone with no nose and no body? Nobody knows. \\t', 'What do you call a girl between two posts? Annette. \\t', 'What do you call a criminal going down the stairs? Condescending \\t', 'What do you call a fat psychic? A four-chin teller. \\t', 'I used to be a banker, but I lost interest. \\t', \"Why can't a bicycle stand on its own? It's two-tired. \\t\", 'What does a pirate pay for his corn? A buccaneer! \\t', 'Astronomers got tired watching the moon go around the earth for 24 hours. They decided to call it a day. \\t', 'My dog used to chase people on a bike a lot. It got so bad I had to take his bike away. \\t', 'I ate a clock yesterday. It was so time consuming. \\t', 'Two dyslexics walk into a bra. \\t', 'I been watching a channel on TV that is strictly just about origami — of course it is paper-view. \\t', 'Milk is also the fastest liquid on earth – its pasteurized before you even see it \\t', 'Is the pool safe for diving? It deep ends. \\t', 'Why do scuba divers fall backwards into the water? Because if they fell forwards they’d still be in the boat. \\t', \"My wife told me to rub the herbs on the meat for better flavor. That's sage advice. \\t\", 'A man was caught stealing in a supermarket today while balanced on the shoulders of a couple of vampires. He was charged with shoplifting on two counts.  \\t', \"Ben & Jerry's really need to improve their operation. The only way to get there is down a rocky road. \\t\", 'How are false teeth like stars? They come out at night! \\t', 'What time did the man go to the dentist? Tooth hurt-y. \\t', 'I went to the zoo yesterday and saw a baguette in a cage. It was bread in captivity. \\t', 'Did you hear about the cheese factory that exploded in France? There was nothing left but de Brie. \\t', 'How does a penguin build it’s house? Igloos it together. \\t', 'What is this movie about? It is about 2 hours long. \\t', 'Why are pirates called pirates? Because they arrr! \\t', 'Where does Fonzie like to go for lunch? Chick-Fil-Eyyyyyyyy. \\t', 'How does a dyslexic poet write? Inverse. \\t', \"Don't tell secrets in corn fields. Too many ears around. \\t\", 'What did the pirate say on his 80th birthday? Aye Matey! \\t', 'Why did the A go to the bathroom and come out as an E? Because he had a vowel movement. \\t', 'Yesterday a clown held a door open for me. I thought it was a nice jester. \\t', 'Why did the opera singer go sailing? They wanted to hit the high Cs. \\t', 'Bought a new jacket suit the other day and it burst into flames. Well, it was a blazer \\t', 'Whats a penguins favorite relative? Aunt Arctica. \\t', \"Never Trust Someone With Graph Paper...  They're always plotting something. \\t\", 'What do you call an elephant that doesn’t matter? An irrelephant. \\t', 'What do you call a group of disorganized cats? A cat-tastrophe. \\t', \"What is bread's favorite number?  Leaven. \\t\", 'Why can’t you hear a pterodactyl go to the bathroom? The p is silent. \\t', 'How do you know if there’s an elephant under your bed? Your head hits the ceiling! \\t', 'How do you teach a kid to climb stairs? There is a step by step guide. \\t', 'Where do owls go to buy their baby clothes? The owlet malls. \\t', 'Why does Norway have barcodes on their battleships? So when they get back to port, they can Scandinavian. \\t', \"What's the worst part about being a cross-eyed teacher?  They can't control their pupils. \\t\", 'What do you call a fashionable lawn statue with an excellent sense of rhythmn? A metro-gnome \\t', 'Someone broke into my house last night and stole my limbo trophy. How low can you go? \\t', 'Why did the coffee file a police report? It got mugged. \\t', \"Mountains aren't just funny, they are hill areas \\t\", \"I was going to learn how to juggle, but I didn't have the balls. \\t\", \"The Swiss must've been pretty confident in their chances of victory if they included a corkscrew in their army knife. \\t\", 'Why was the strawberry sad? Its parents were in a jam. \\t', 'I wear a stethoscope so that in a medical emergency I can teach people a valuable lesson about assumptions. \\t', 'Why are ghosts bad liars? Because you can see right through them! \\t', 'Every machine in the coin factory broke down all of a sudden without explanation. It just doesn’t make any cents. \\t', 'Why does it take longer to get from 1st to 2nd base, than it does to get from 2nd to 3rd base? Because there’s a Shortstop in between! \\t', 'What do you do when you see a space man? Park your car, man. \\t', 'If you want a job in the moisturizer industry, the best advice I can give is to apply daily. \\t', 'Where do you take someone who has been injured in a Peek-a-boo accident? To the I.C.U. \\t', 'When you have a bladder infection, urine trouble. \\t', 'How do you make Lady Gaga cry? Poker face.  \\t', 'What do you call a group of killer whales playing instruments? An Orca-stra. \\t', \"I was in an 80's band called the prevention. We were better than the cure. \\t\", 'What did Michael Jackson name his denim store?    Billy Jeans! \\t', \"People saying 'boo! to their friends has risen by 85% in the last year.... That's a frightening statistic. \\t\", \"Geology rocks, but Geography is where it's at! \\t\", \"Why does Han Solo like gum? It's chewy! \\t\", 'I was at the library and asked if they have any books on \"paranoia\", the librarian replied, \"yes, they are right behind you\" \\t', \"Have you heard of the band 1023MB? They haven't got a gig yet. \\t\", 'The urge to sing the Lion King song is just a whim away. \\t', 'What happens when you anger a brain surgeon? They will give you a piece of your mind. \\t', 'I needed a password eight characters long so I picked Snow White and the Seven Dwarfs. \\t', \"I used to work at a stationery store.  But, I didn't feel like I was going anywhere.  So, I got a job at a travel agency.  Now, I know I'll be going places. \\t\", 'I used to work in a shoe recycling shop. It was sole destroying. \\t', 'I used to hate facial hair, but then it grew on me. \\t', 'R.I.P. boiled water. You will be mist. \\t', 'Q: What did the spaghetti say to the other spaghetti? A: Pasta la vista, baby! \\t', 'The first time I got a universal remote control I thought to myself, \"This changes everything\" \\t', 'Why is the ocean always blue? Because the shore never waves back. \\t', 'Why did the feline fail the lie detector test? Because he be lion. \\t', 'Why did the man put his money in the freezer? He wanted cold hard cash! \\t', 'I decided to sell my Hoover… well it was just collecting dust. \\t', 'Why do ducks make great detectives? They always quack the case. \\t', \"What does a clock do when it's hungry? It goes back four seconds! \\t\", 'What do I look like? A JOKE MACHINE!? \\t', \"I bought shoes from a drug dealer once. I don't know what he laced them with, but I was tripping all day. \\t\", \"What is a tornado's favorite game to play? Twister! \\t\", 'You know that cemetery up the road? People are dying to get in there. \\t', 'Pie is $2.50 in Jamaica and $3.00 in The Bahamas. These are the pie-rates of the Caribbean. \\t', 'What do you call a fish wearing a bowtie? Sofishticated. \\t', 'Did you hear about the Mexican train killer? He had loco motives \\t', 'Can I watch the TV? Dad: Yes, but don’t turn it on. \\t', 'What is worse then finding a worm in your Apple? Finding half a worm in your Apple. \\t', 'What do vegetarian zombies eat? Grrrrrainnnnnssss. \\t', '\"I\\'m sorry.\" \"Hi sorry, I\\'m dad\" \\t', 'What is the hardest part about sky diving? The ground. \\t', 'Why did the cowboy have a weiner dog? Somebody told him to get a long little doggy. \\t', 'My friend keeps telling me \"Cheer up. You aren\\'t stuck in a deep hole in the ground, filled with water.\" I know he means well. \\t', 'Who did the wizard marry? His ghoul-friend \\t', 'How many seconds are in a year? 12. January 2nd, February 2nd, March 2nd, April 2nd.... etc \\t', \"I ordered a chicken and an egg from Amazon. I'll let you know. \\t\", \"Ever wondered why bees hum? It's because they don't know the words. \\t\", 'How many optometrists does it take to change a light bulb? 1 or 2? 1... or 2? \\t', \"There's not really any training for garbagemen. They just pick things up as they go. \\t\", 'Did you hear about the cow who jumped over the barbed wire fence? It was udder destruction. \\t', 'I was shocked when I was diagnosed as colorblind... It came out of the purple. \\t', 'Where does astronauts hangout after work? At the spacebar. \\t', 'What do you call a bear with no teeth? A gummy bear! \\t', 'I’ve deleted the phone numbers of all the Germans I know from my mobile phone. Now it’s Hans free. \\t', 'What do you call your friend who stands in a hole? Phil. \\t', \"A doll was recently found dead in a rice paddy. It's the only known instance of a nick nack paddy wack. \\t\", 'How do you tell the difference between a crocodile and an alligator? You will see one later and one in a while. \\t', 'What do you call a fake noodle? An impasta. \\t', \"The word queue is ironic. It's just q with a bunch of silent letters waiting in line. \\t\", 'What do you call a droid that takes the long way around? R2 detour. \\t', \"What's the best thing about elevator jokes? They work on so many levels. \\t\", 'Where do rabbits go after they get married? On a bunny-moon. \\t', \"Why do cows wear bells? Because their horns don't work. \\t\", 'Two fish are in a tank, one turns to the other and says, \"how do you drive this thing?\" \\t', \"I finally bought the limited edition Thesaurus that I've always wanted. When I opened it, all the pages were blank. I have no words to describe how angry I am. \\t\", 'This is my step ladder. I never knew my real ladder. \\t', 'I was thinking about moving to Moscow but there is no point Russian into things. \\t', 'A man walks into a bar and orders helicopter flavor chips. The barman replies “sorry mate we only do plain” \\t', 'It\\'s been months since I bought the book \"how to scam people online\". It still hasn\\'t turned up. \\t', \"Why is it a bad idea to iron your four-leaf clover? Cause you shouldn't press your luck. \\t\", 'I got an A on my origami assignment when I turned my paper into my teacher \\t', 'What did the fish say when it swam into a wall? Damn! \\t', 'I accidentally drank a bottle of invisible ink. Now I’m in hospital, waiting to be seen. \\t', \"Why does Waldo only wear stripes? Because he doesn't want to be spotted. \\t\", 'My New Years resolution is to stop leaving things so late. \\t', 'Why did the scarecrow win an award? Because he was outstanding in his field. \\t', \"Americans can't switch from pounds to kilograms overnight. That would cause mass confusion. \\t\", 'An apple a day keeps the bullies away. If you throw it hard enough. \\t', 'Why does Superman get invited to dinners? Because he is a Supperhero. \\t', \"Why is no one friends with Dracula? Because he's a pain in the neck. \\t\", 'A man got hit in the head with a can of Coke, but he was alright because it was a soft drink. \\t', 'What is the leading cause of dry skin? Towels \\t', 'A man walked in to a bar with some asphalt on his arm. He said “Two beers please, one for me and one for the road.” \\t', \"Did you know the first French fries weren't actually cooked in France? They were cooked in Greece. \\t\", 'I’ll tell you something about German sausages, they’re the wurst \\t', 'Where did Captain Hook get his hook? From a second hand store. \\t', 'I got fired from a florist, apparently I took too many leaves. \\t', 'Two silk worms had a race. They ended up in a tie. \\t', \"I got fired from the transmission factor, turns out I didn't put on enough shifts... \\t\", 'Where do young cows eat lunch? In the calf-ateria. \\t', 'I went to the doctor today and he told me I had type A blood but it was a type O. \\t', 'How does a French skeleton say hello? Bone-jour. \\t', 'Why was the big cat disqualified from the race? Because it was a cheetah. \\t', 'What do prisoners use to call each other? Cell phones. \\t', 'What’s E.T. short for? He’s only got little legs. \\t', 'We all know where the Big Apple is but does anyone know where the Minneapolis? \\t', 'What kind of award did the dentist receive? A little plaque. \\t', 'Got a new suit recently made entirely of living plants. I wasn’t sure at first, but it’s grown on me \\t', 'Do you know where you can get chicken broth in bulk? The stock market. \\t', \"What's orange and sounds like a parrot? A Carrot. \\t\", 'A Sandwich walks into a bar, the bartender says “Sorry, we don’t serve food here” \\t', 'What do you get hanging from Apple trees? Sore arms. \\t', \"I thought about going on an all-almond diet. But that's just nuts. \\t\", 'I don’t play soccer because I enjoy the sport. I’m just doing it for kicks. \\t', 'People are shocked to discover I have a police record but I love their greatest hits! \\t', 'Today a girl said she recognized me from vegetarian club, but I’m sure I’ve never met herbivore. \\t', 'How do you organize a space party? You planet. \\t', 'How do you make holy water? You boil the hell out of it. \\t', 'A man is washing the car with his son. The son asks...... \"Dad, can’t you just use a sponge?\" \\t', 'They laughed when I said I wanted to be a comedian – they’re not laughing now. \\t', 'What does an angry pepper do? It gets jalapeño face. \\t', \"Don't buy flowers at a monastery. Because only you can prevent florist friars. \\t\", 'Hostess: Do you have a preference of where you sit? Dad: Down. \\t', 'Did you hear about the submarine industry? It really took a dive... \\t', \"The biggest knight at King Arthur's round table was Sir Cumference. He acquired his size from eating too much pi. \\t\", \"To the person who stole my anti-depressant pills: I hope you're happy now. \\t\", 'How do you get a baby alien to sleep?  You rocket. \\t', 'Why do pirates not know the alphabet? They always get stuck at \"C\". \\t', 'I saw my husband trip and fall while carrying a laundry basket full of ironed clothes. I watched it all unfold. \\t', \"Did you hear about the chameleon who couldn't change color? They had a reptile dysfunction. \\t\", 'Why did the house go to the doctor? It was having window panes. \\t', 'I made a playlist for hiking. It has music from Peanuts, The Cranberries, and Eminem. I call it my Trail Mix. \\t', 'What do you call a dictionary on drugs? High definition. \\t', 'A Skeleton walked into a bar he said I need a beer and a mop \\t', 'How do robots eat guacamole? With computer chips. \\t', 'Today, my son asked \"Can I have a book mark?\" and I burst into tears. 11 years old and he still doesn\\'t know my name is Brian. \\t', 'When does a joke become a dad joke? When it becomes apparent. \\t', 'What’s brown and sounds like a bell? Dung! \\t', 'What has a bed that you can’t sleep in? A river. \\t', 'Why do crabs never give to charity? Because they’re shellfish. \\t', 'What do you call a pig with three eyes? Piiig \\t', 'How do you make a hankie dance? Put a little boogie in it. \\t', 'Sgt.: Commissar! Commissar! The troops are revolting! Commissar: Well, you’re pretty repulsive yourself. \\t', 'The other day I was listening to a song about superglue, it’s been stuck in my head ever since. \\t', \"What don't watermelons get married? Because they cantaloupe. \\t\", 'If you’re struggling to think of what to get someone for Christmas. Get them a fridge and watch their face light up when they open it. \\t', \"The great thing about stationery shops is they're always in the same place... \\t\", 'Did you hear about the cheese who saved the world? It was Legend-dairy! \\t', 'What do you call cheese by itself? Provolone. \\t', 'How do you fix a broken pizza? With tomato paste. \\t', \"What's red and bad for your teeth? A Brick. \\t\", 'I heard there was a new store called Moderation. They have everything there \\t', 'A beekeeper was indicted after he confessed to years of stealing at work. They charged him with emBEEzlement \\t', 'I used to work for a soft drink can crusher. It was soda pressing. \\t', 'Why did the chicken get a penalty? For fowl play. \\t', 'When Dad drops a pea off of his plate ‘oh dear I’ve pee’d on the table! \\t', 'My cat was just sick on the carpet, I don’t think it’s feline well. \\t', 'Why did the burglar hang his mugshot on the wall? To prove that he was framed! \\t', 'I dreamed about drowning in an ocean made out of orange soda last night. It took me a while to work out it was just a Fanta sea. \\t', 'I had a dream that I was a muffler last night. I woke up exhausted! \\t', 'A dad washes his car with his son. But after a while, the son says, \"why can\\'t you just use a sponge?\" \\t', \"Doctor you've got you help me, I'm addicted to twitter. Doctor: I don't follow you. \\t\", 'My boss told me to have a good day. So I went home... \\t', 'Why do we tell actors to “break a leg?” Because every play has a cast. \\t', \"I broke my finger at work today, on the other hand I'm completely fine. \\t\", 'I went to a book store and asked the saleswoman where the Self Help section was, she said if she told me it would defeat the purpose. \\t', 'How does a scientist freshen their breath? With experi-mints! \\t', 'What has ears but cannot hear? A field of corn. \\t', \"People who don't eat gluten are really going against the grain. \\t\", 'Sore throats are a pain in the neck! \\t', 'How did Darth Vader know what Luke was getting for Christmas? He felt his presents. \\t', \"What's the difference between a seal and a sea lion? An ion!  \\t\", 'I think circles are pointless. \\t', 'What did the Dorito farmer say to the other Dorito farmer? Cool Ranch! \\t', 'A ghost walks into a bar and asks for a glass of vodka but the bar tender says, “sorry we don’t serve spirits” \\t', 'You know what they say about cliffhangers... \\t', 'Why do wizards clean their teeth three times a day? To prevent bat breath! \\t', \"Someone asked me, what's the ninth letter of the alphabet? It was a complete guess, but I was right. \\t\", 'Feeling pretty proud of myself. The Sesame Street puzzle I bought said 3-5 years, but I finished it in 18 months. \\t', 'A termite walks into a bar and asks “Is the bar tender here?” \\t', 'Why are fish so smart? Because they live in schools! \\t', 'How does the moon cut his hair? Eclipse it. \\t', 'Why did the worker get fired from the orange juice factory? Lack of concentration. \\t', \"I couldn't get a reservation at the library. They were completely booked. \\t\", \"Dad, can you put my shoes on? I don't think they'll fit me. \\t\", 'How do you get two whales in a car? Start in England and drive West. \\t', 'What do you call an Argentinian with a rubber toe? Roberto \\t', 'I tried taking some high resolution photos of local farmland, but they all turned out a bit grainy. \\t', 'What did the ocean say to the shore? Nothing, it just waved. \\t', 'I went to the zoo the other day, there was only one dog in it. It was a shitzu. \\t', 'Someone asked me to name two structures that hold water. I said \"Well dam\" \\t', 'I gave all my dead batteries away today, free of charge. \\t', 'Did you hear the news? FedEx and UPS are merging. They’re going to go by the name Fed-Up from now on. \\t', \"Why didn't the number 4 get into the nightclub? Because he is 2 square. \\t\", 'What do you call a sheep with no legs? A cloud. \\t', 'Why did the m&m go to school? Because it wanted to be a Smartie! \\t', 'Did you hear that David lost his ID in prague? Now we just have to call him Dav. \\t', 'My wife is on a tropical fruit diet, the house is full of stuff. It is enough to make a mango crazy. \\t', 'Why are basketball players messy eaters? Because they are always dribbling. \\t', \"Why do mathematicians hate the U.S.? Because it's indivisible. \\t\", 'I knew i shouldn’t have ate that seafood. Because now i’m feeling a little… Eel \\t', 'Past, present, and future walked into a bar.... It was tense. \\t', 'Did you hear about the bread factory burning down? They say the business is toast. \\t', 'My boss told me that he was going to fire the person with the worst posture. I have a hunch, it might be me. \\t', \"What's black and white and read all over? The newspaper. \\t\", 'Why are skeletons so calm? Because nothing gets under their skin. \\t', 'Without geometry life is pointless. \\t', '“Hold on, I have something in my shoe”  “I’m pretty sure it’s a foot” \\t', 'Have you heard about the film \"Constipation\", you probably haven\\'t because it\\'s not out yet. \\t', 'Did you know Albert Einstein was a real person? All this time, I thought he was just a theoretical physicist! \\t', \"I hate perforated lines, they're tearable. \\t\", 'I asked the surgeon if I could administer my own anesthetic, they said: go ahead, knock yourself out. \\t', 'Why did the barber win the race? He took a short cut. \\t', 'Why did the octopus beat the shark in a fight? Because it was well armed. \\t', 'What did the doctor say to the gingerbread man who broke his leg? Try icing it. \\t', 'What did the judge say to the dentist? Do you swear to pull the tooth, the whole tooth and nothing but the tooth? \\t', '\"What time is it?\" I don\\'t know... it keeps changing. \\t', \"You can't trust a ladder. It will always let you down \\t\", 'I am so good at sleeping I can do it with my eyes closed! \\t', \"I wouldn't buy anything with velcro. It's a total rip-off. \\t\", 'What are the strongest days of the week? Saturday and Sunday...the rest are weekdays. \\t', 'My friend said to me: \"What rhymes with orange\" I said: \"no it doesn\\'t\" \\t', 'I had a rough day, and then somebody went and ripped the front and back pages from my dictionary. It just goes from bad to worse. \\t', 'I adopted my dog from a blacksmith. As soon as we got home he made a bolt for the door. \\t', 'Where does batman go to the bathroom? The batroom. \\t', \"Some people say that comedians who tell one too many light bulb jokes soon burn out, but they don't know watt they are talking about. They're not that bright. \\t\", 'A bartender broke up with her boyfriend, but he kept asking her for another shot. \\t', 'What do you call a cow on a trampoline? A milk shake! \\t', 'What do you call a nervous javelin thrower? Shakespeare. \\t', 'What do you call an eagle who can play the piano? Talonted! \\t', \"What do you call a boomerang that won't come back? A stick. \\t\", \"What do you call a duck that gets all A's? A wise quacker. \\t\", 'I used to work for an origami company but they folded. \\t', 'There’s a new type of broom out, it’s sweeping the nation. \\t', 'I just wrote a book on reverse psychology. Do not read it! \\t', 'The shovel was a ground-breaking invention. \\t', 'Why don’t seagulls fly over the bay? Because then they’d be bay-gulls! \\t', 'Parallel lines have so much in common. It’s a shame they’ll never meet. \\t', 'The best time on a clock is 6:30--hands down. \\t', 'What do you call a magician who has lost their magic? Ian. \\t', 'Why do fish live in salt water? Because pepper makes them sneeze! \\t', 'When do doctors get angry? When they run out of patients. \\t', \"A man tried to sell me a coffin today. I told him that's the last thing I need. \\t\", \"It doesn't matter how much you push the envelope. It will still be stationary. \\t\", 'What did the shy pebble wish for? That she was a little boulder. \\t', 'Why did the belt go to prison? He held up a pair of pants! \\t', 'Wife told me to take the spider out instead of killing it... We had some drinks, cool guy, wants to be a web developer. \\t', 'What cheese can never be yours? Nacho cheese. \\t', \"What is a vampire's favorite fruit? A blood orange. \\t\", 'A cannibal is someone who is fed up with people. \\t', 'Why did the cookie cry? Because his mother was a wafer so long \\t', \"Want to hear my pizza joke? Never mind, it's too cheesy. \\t\", 'What did the grape do when he got stepped on? He let out a little wine. \\t', 'What did the 0 say to the 8? Nice belt. \\t', 'Why was the picture sent to prison? It was framed. \\t', 'Two peanuts were walking down the street. One was a salted. \\t', 'I burned 2000 calories today, I left my food in the oven for too long. \\t', 'Cosmetic surgery used to be such a taboo subject. Now you can talk about Botox and nobody raises an eyebrow. \\t', 'How can you tell a vampire has a cold? They start coffin. \\t', 'At the boxing match, the dad got into the popcorn line and the line for hot dogs, but he wanted to stay out of the punchline. \\t', '\"Hey, dad, did you get a haircut?\" \"No, I got them all cut.\" \\t', 'Why is there always a gate around cemeteries? Because people are always dying to get in. \\t', 'I asked a frenchman if he played video games. He said \"Wii\" \\t', 'My dentist is the best, he even has a little plaque! \\t', 'So, I heard this pun about cows, but it’s kinda offensive so I won’t say it. I don’t want there to be any beef between us.  \\t', 'What do Alexander the Great and Winnie the Pooh have in common? Same middle name. \\t', 'What kind of music do planets listen to? Nep-tunes. \\t', \"Shout out to my grandma, that's the only way she can hear. \\t\", 'Why was the broom late for the meeting? He overswept. \\t', 'I went on a date last night with a girl from the zoo. It was great. She’s a keeper. \\t', \"Why do you never see elephants hiding in trees? Because they're so good at it. \\t\", 'Mahatma Gandhi, as you know, walked barefoot most of the time, which produced an impressive set of calluses on his feet.  He also ate very little, which made him rather frail and with his odd diet, he suffered from bad breath.  This made him a super calloused fragile mystic hexed by halitosis. \\t', 'What do you call an alligator in a vest? An in-vest-igator! \\t', \"What did celery say when he broke up with his girlfriend? She wasn't right for me, so I really don't carrot all. \\t\", 'Thanks for explaining the word \"many\" to me. It means a lot. \\t', \"What's brown and sticky? A stick. \\t\", 'What biscuit does a short person like? Shortbread.  \\t', 'The invention of the wheel was what got things rolling \\t', \"Why was Santa's little helper feeling depressed? Because he has low elf esteem.  \\t\", 'Why did Sweden start painting barcodes on the sides of their battleships? So they could Scandinavian. \\t', \"Want to hear a chimney joke? Got stacks of em! First one's on the house \\t\", 'What do you call a pig that knows karate? A pork chop! \\t', 'If two vegans are having an argument, is it still considered beef? \\t', 'My sea sickness comes in waves. \\t', \"For Valentine's day, I decided to get my wife some beads for an abacus.  It's the little things that count. \\t\", \"What's the worst thing about ancient history class? The teachers tend to Babylon. \\t\", \"My new thesaurus is terrible. In fact, it's so bad, I'd say it's terrible. \\t\", 'What type of music do balloons hate? Pop music! \\t', \"Do you want a brief explanation of what an acorn is? In a nutshell, it's an oak tree. \\t\", 'How come a man driving a train got struck by lightning? He was a good conductor. \\t', 'Camping is intense. \\t', \"Dad died because he couldn't remember his blood type. I will never forget his last words. Be positive. \\t\", 'I’m on a whiskey diet. I’ve lost three days already. \\t', 'How does Darth Vader like his toast? On the dark side. \\t', 'Why didn’t the orange win the race? It ran out of juice. \\t', 'Did you hear about the runner who was criticized? He just took it in stride \\t', 'What animal is always at a game of cricket? A bat. \\t', 'Why did the Clydesdale give the pony a glass of water? \\u2028Because he was a little horse! \\t', 'I started a new business making yachts in my attic this year...the sails are going through the roof \\t', 'If you think swimming with dolphins is expensive, you should try swimming with sharks--it cost me an arm and a leg! \\t', 'What did the Buffalo say to his little boy when he dropped him off at school? Bison. \\t', 'I used to have a job at a calendar factory but I got the sack because I took a couple of days off. \\t', 'I am terrified of elevators. I’m going to start taking steps to avoid them. \\t', 'Why do bees have sticky hair? Because they use honey combs! \\t', 'Did you know you should always take an extra pair of pants golfing? Just in case you get a hole in one. \\t', \"I wish I could clean mirrors for a living. It's just something I can see myself doing. \\t\", 'How do the trees get on the internet? They log on. \\t', 'To the guy who invented zero... thanks for nothing. \\t', 'What lies at the bottom of the ocean and twitches? A nervous wreck. \\t', 'What is red and smells like blue paint? Red paint! \\t', '*Reversing the car* \"Ah, this takes me back\" \\t', \"Doctor you've got to help me, I'm addicted to Twitter. Doctor: I don't follow you. \\t\", \"How do locomotives know where they're going? Lots of training \\t\", 'How did the hipster burn the roof of his mouth? He ate the pizza before it was cool. \\t', 'A butcher accidentally backed into his meat grinder and got a little behind in his work that day. \\t', 'Did you hear about the new restaurant on the moon? The food is great, but there’s just no atmosphere. \\t', \"What do you call a beehive without the b's? An eehive. \\t\", 'What kind of pants do ghosts wear? Boo jeans. \\t', 'Two guys walked into a bar, the third one ducked. \\t', 'I really want to buy one of those supermarket checkout dividers, but the cashier keeps putting it back. \\t', 'A horse walks into a bar. The bar tender says \"Hey.\" The horse says \"Sure.\" \\t', 'Did you hear about the guy who invented Lifesavers? They say he made a mint. \\t', \"What's the difference between a poorly dressed man on a tricycle and a well dressed man on a bicycle? Attire. \\t\", 'Why are giraffes so slow to apologize? Because it takes them a long time to swallow their pride. \\t', '\"Dad, I\\'m hungry.\" Hello, Hungry. I\\'m Dad. \\t', \"I'm practicing for a bug-eating contest and I've got butterflies in my stomach. \\t\", 'I have the heart of a lion... and a lifetime ban from the San Diego Zoo. \\t', 'What do you call a guy lying on your doorstep? Matt. \\t', \"I met this girl on a dating site and, I don't know, we just clicked. \\t\", 'What did the calculator say to the student? You can count on me. \\t', \"What do you call a gorilla wearing headphones? Anything you'd like, it can't hear you. \\t\", \"Have you heard about corduroy pillows?  They're making headlines! \\t\", 'Why was the math book sad? It had too many problems.', 'Parallel lines have so much in common. It’s a shame they’ll never meet.', 'I told my wife she was drawing her eyebrows too high. She looked surprised.']\n"
     ]
    }
   ],
   "source": [
    "print(jokes_list)"
   ]
  },
  {
   "cell_type": "markdown",
   "metadata": {
    "id": "d_Gea2dEGA-q"
   },
   "source": [
    "### **Tokenization** :  Defining `Tokenizer()` to convert the text into sequences\n",
    "\n",
    "---\n",
    "\n"
   ]
  },
  {
   "cell_type": "code",
   "execution_count": 7,
   "metadata": {
    "id": "P3tM2pk7rLmK"
   },
   "outputs": [],
   "source": [
    "tokenizer = Tokenizer()\n",
    "tokenizer.fit_on_texts(jokes_list)\n",
    "total_words = len(tokenizer.word_index) + 1"
   ]
  },
  {
   "cell_type": "code",
   "execution_count": 8,
   "metadata": {
    "id": "emWb7zXLrXBZ"
   },
   "outputs": [],
   "source": [
    "#converting text to sequence\n",
    "input_sequences = []\n",
    "for line in jokes_list:\n",
    "    token_list = tokenizer.texts_to_sequences([line])[0]\n",
    "    for i in range(1, len(token_list)):\n",
    "        n_gram_sequence = token_list[:i+1]\n",
    "        input_sequences.append(n_gram_sequence)"
   ]
  },
  {
   "cell_type": "code",
   "execution_count": 9,
   "metadata": {
    "colab": {
     "base_uri": "https://localhost:8080/"
    },
    "id": "kZ7s_Otd0ea-",
    "outputId": "33e611a6-4f1d-4ce0-c18d-9a37f4569940"
   },
   "outputs": [
    {
     "name": "stdout",
     "output_type": "stream",
     "text": [
      "<class 'list'>\n"
     ]
    }
   ],
   "source": [
    "print(type(jokes_list))\n"
   ]
  },
  {
   "cell_type": "code",
   "execution_count": 10,
   "metadata": {
    "id": "GLdfjLfw48LO"
   },
   "outputs": [],
   "source": [
    "jokes_list = pd.DataFrame(jokes_list)"
   ]
  },
  {
   "cell_type": "markdown",
   "metadata": {
    "id": "DS0i4YdYu7Na"
   },
   "source": [
    "### **Removing Stop Words**\n",
    "\n",
    "---"
   ]
  },
  {
   "cell_type": "code",
   "execution_count": 11,
   "metadata": {
    "colab": {
     "base_uri": "https://localhost:8080/"
    },
    "id": "7dTO53zv41YX",
    "outputId": "1721d22b-dafd-4456-c568-7dff884fe365"
   },
   "outputs": [
    {
     "name": "stderr",
     "output_type": "stream",
     "text": [
      "[nltk_data] Downloading package stopwords to\n",
      "[nltk_data]     C:\\Users\\Srilaasya\\AppData\\Roaming\\nltk_data...\n",
      "[nltk_data]   Package stopwords is already up-to-date!\n"
     ]
    }
   ],
   "source": [
    "import nltk\n",
    "nltk.download('stopwords')\n",
    "def threeLetters(listOfTokens):\n",
    "    threeLetterWord = []\n",
    "    for token in listOfTokens:\n",
    "        if len(token) <= 3 or len(token) >= 21:\n",
    "            threeLetterWord.append(token)\n",
    "    return threeLetterWord"
   ]
  },
  {
   "cell_type": "code",
   "execution_count": 12,
   "metadata": {
    "id": "cko_cyc81ac5"
   },
   "outputs": [],
   "source": [
    "from nltk.corpus import stopwords\n",
    "def removeWords(listOfTokens):\n",
    "  return [token for token in listOfTokens if token not in stopwords.words('english')]\n",
    "jokes_df['Joke'] = jokes_df['Joke'].apply(removeWords)\n"
   ]
  },
  {
   "cell_type": "code",
   "execution_count": 13,
   "metadata": {
    "colab": {
     "base_uri": "https://localhost:8080/"
    },
    "id": "AxnUZJs78cNx",
    "outputId": "9d55955c-ee1a-4695-89e5-c288dfb4640f"
   },
   "outputs": [
    {
     "data": {
      "text/plain": [
       "0      [I, ',  , r, e,  , f,  , f, l, l, w, n, g,  , ...\n",
       "1      [D,  , u,  , h, e, r,  , b, u,  , h, e,  , g, ...\n",
       "2      [W, h,  , n, ’,  , h, e,  , k, e, l, e, n,  , ...\n",
       "3      [W, h,  ,  , n, e,  , n, u,  ,  ,  , h, e,  , ...\n",
       "4      [W, h, e, r, e,  ,  , f, h,  , k, e, e, p,  , ...\n",
       "                             ...                        \n",
       "741    [W, h,  ,  , u,  , c, l, l,  ,  , g, r, l, l, ...\n",
       "742    [H, v, e,  , u,  , h, e, r,  , b, u,  , c, r, ...\n",
       "743    [W, h,  , w,  , h, e,  , h,  , b, k,  , ?,  , ...\n",
       "744    [P, r, l, l, e, l,  , l, n, e,  , h, v, e,  , ...\n",
       "745    [I,  , l,  ,  , w, f, e,  , h, e,  , w,  , r, ...\n",
       "Name: Joke, Length: 746, dtype: object"
      ]
     },
     "execution_count": 13,
     "metadata": {},
     "output_type": "execute_result"
    }
   ],
   "source": [
    "jokes_df['Joke']"
   ]
  },
  {
   "cell_type": "markdown",
   "metadata": {
    "id": "uGUUSH1TwDqq"
   },
   "source": [
    "### **Stemming** : Normalizing words in the corpus with similar meanings.\n",
    "\n",
    "---\n",
    "\n"
   ]
  },
  {
   "cell_type": "code",
   "execution_count": 14,
   "metadata": {
    "id": "4pWAmoCywHLf"
   },
   "outputs": [],
   "source": [
    "from nltk import SnowballStemmer\n",
    "stemmer = SnowballStemmer('english')\n",
    "\n",
    "def applyStemming(listOfTokens):\n",
    "    return [stemmer.stem(token) for token in listOfTokens]\n",
    "\n",
    "jokes_df['Joke'] = jokes_df['Joke'].apply(applyStemming)"
   ]
  },
  {
   "cell_type": "code",
   "execution_count": 15,
   "metadata": {
    "colab": {
     "base_uri": "https://localhost:8080/",
     "height": 206
    },
    "id": "n0JLCPQfwVLv",
    "outputId": "7e8cb555-fd55-4492-a1c4-5e4fcb9047a2"
   },
   "outputs": [
    {
     "data": {
      "text/html": [
       "<div>\n",
       "<style scoped>\n",
       "    .dataframe tbody tr th:only-of-type {\n",
       "        vertical-align: middle;\n",
       "    }\n",
       "\n",
       "    .dataframe tbody tr th {\n",
       "        vertical-align: top;\n",
       "    }\n",
       "\n",
       "    .dataframe thead th {\n",
       "        text-align: right;\n",
       "    }\n",
       "</style>\n",
       "<table border=\"1\" class=\"dataframe\">\n",
       "  <thead>\n",
       "    <tr style=\"text-align: right;\">\n",
       "      <th></th>\n",
       "      <th>0</th>\n",
       "    </tr>\n",
       "  </thead>\n",
       "  <tbody>\n",
       "    <tr>\n",
       "      <th>0</th>\n",
       "      <td>I'm tired of following my dreams. I'm just goi...</td>\n",
       "    </tr>\n",
       "    <tr>\n",
       "      <th>1</th>\n",
       "      <td>Did you hear about the guy whose whole left si...</td>\n",
       "    </tr>\n",
       "    <tr>\n",
       "      <th>2</th>\n",
       "      <td>Why didn’t the skeleton cross the road? Becaus...</td>\n",
       "    </tr>\n",
       "    <tr>\n",
       "      <th>3</th>\n",
       "      <td>What did one nut say as he chased another nut?...</td>\n",
       "    </tr>\n",
       "    <tr>\n",
       "      <th>4</th>\n",
       "      <td>Where do fish keep their money? In the riverba...</td>\n",
       "    </tr>\n",
       "  </tbody>\n",
       "</table>\n",
       "</div>"
      ],
      "text/plain": [
       "                                                   0\n",
       "0  I'm tired of following my dreams. I'm just goi...\n",
       "1  Did you hear about the guy whose whole left si...\n",
       "2  Why didn’t the skeleton cross the road? Becaus...\n",
       "3  What did one nut say as he chased another nut?...\n",
       "4  Where do fish keep their money? In the riverba..."
      ]
     },
     "execution_count": 15,
     "metadata": {},
     "output_type": "execute_result"
    }
   ],
   "source": [
    "jokes_list.head()"
   ]
  },
  {
   "cell_type": "code",
   "execution_count": 16,
   "metadata": {
    "colab": {
     "base_uri": "https://localhost:8080/",
     "height": 564
    },
    "id": "Tft0EC7rA1Zk",
    "outputId": "9c56f09d-6223-4b67-f4fc-4df87282a9b8"
   },
   "outputs": [
    {
     "data": {
      "image/png": "[encoded data removed]",
      "text/plain": [
       "<Figure size 720x432 with 1 Axes>"
      ]
     },
     "metadata": {
      "needs_background": "light"
     },
     "output_type": "display_data"
    }
   ],
   "source": [
    "joke_lengths = jokes_df['Joke'].apply(lambda x: len(x) if isinstance(x, list) else len(x.split()))\n",
    "\n",
    "plt.figure(figsize=(10, 6))\n",
    "plt.hist(joke_lengths, bins=30)\n",
    "plt.title('Distribution of Joke Lengths')\n",
    "plt.xlabel('Number of Words')\n",
    "plt.ylabel('Number of Jokes')\n",
    "plt.show()"
   ]
  },
  {
   "cell_type": "markdown",
   "metadata": {
    "id": "hh_jS-1FQUls"
   },
   "source": [
    "### **Padding Sequences** : It will pad any given sequences to the desired maximum length.\n",
    "\n",
    "---\n",
    "\n"
   ]
  },
  {
   "cell_type": "code",
   "execution_count": 17,
   "metadata": {
    "id": "Ogs_OcEfrhf8"
   },
   "outputs": [],
   "source": [
    "max_sequence_length = max(len(seq) for seq in input_sequences)\n",
    "padded_sequences = pad_sequences(input_sequences, maxlen=max_sequence_length, padding='pre')"
   ]
  },
  {
   "cell_type": "code",
   "execution_count": 18,
   "metadata": {
    "id": "6iE3jLQ9rpdl"
   },
   "outputs": [],
   "source": [
    "x, y = padded_sequences[:, :-1], padded_sequences[:, -1]\n",
    "y = tf.keras.utils.to_categorical(y, num_classes=total_words)"
   ]
  },
  {
   "cell_type": "markdown",
   "metadata": {
    "id": "L0Fa9z42Q2kV"
   },
   "source": [
    "### **Creating the Model**\n",
    "\n",
    "---\n",
    "\n"
   ]
  },
  {
   "cell_type": "code",
   "execution_count": 19,
   "metadata": {
    "id": "ORquZIo2rs9M"
   },
   "outputs": [],
   "source": [
    "model = tf.keras.Sequential([\n",
    "    tf.keras.layers.Embedding(input_dim=total_words, output_dim=100, input_length=max_sequence_length-1),\n",
    "    tf.keras.layers.LSTM(100),\n",
    "    tf.keras.layers.Dense(total_words, activation='softmax')\n",
    "])"
   ]
  },
  {
   "cell_type": "code",
   "execution_count": 20,
   "metadata": {
    "id": "Hc-9OPtOrxWf"
   },
   "outputs": [],
   "source": [
    "model.compile(optimizer='adam', loss='categorical_crossentropy', metrics=['accuracy'])\n"
   ]
  },
  {
   "cell_type": "markdown",
   "metadata": {
    "id": "K84CPOgFQ6tM"
   },
   "source": [
    "### **Training the Model**\n",
    "\n",
    "---\n",
    "\n"
   ]
  },
  {
   "cell_type": "code",
   "execution_count": 21,
   "metadata": {
    "colab": {
     "base_uri": "https://localhost:8080/"
    },
    "id": "Ql1dsmxar2VK",
    "outputId": "a679fa32-c9cd-45ce-95f5-b52a3fdc98a0"
   },
   "outputs": [
    {
     "name": "stdout",
     "output_type": "stream",
     "text": [
      "Epoch 1/100\n",
      "308/308 [==============================] - 23s 57ms/step - loss: 6.7815 - accuracy: 0.0497\n",
      "Epoch 2/100\n",
      "308/308 [==============================] - 17s 56ms/step - loss: 6.2553 - accuracy: 0.0556\n",
      "Epoch 3/100\n",
      "308/308 [==============================] - 17s 56ms/step - loss: 6.0533 - accuracy: 0.0691\n",
      "Epoch 4/100\n",
      "308/308 [==============================] - 18s 58ms/step - loss: 5.8488 - accuracy: 0.0895\n",
      "Epoch 5/100\n",
      "308/308 [==============================] - 22s 71ms/step - loss: 5.6183 - accuracy: 0.1075\n",
      "Epoch 6/100\n",
      "308/308 [==============================] - 18s 59ms/step - loss: 5.3795 - accuracy: 0.1302\n",
      "Epoch 7/100\n",
      "308/308 [==============================] - 16s 52ms/step - loss: 5.1424 - accuracy: 0.1484\n",
      "Epoch 8/100\n",
      "308/308 [==============================] - 18s 58ms/step - loss: 4.9099 - accuracy: 0.1696\n",
      "Epoch 9/100\n",
      "308/308 [==============================] - 23s 74ms/step - loss: 4.6876 - accuracy: 0.1859\n",
      "Epoch 10/100\n",
      "308/308 [==============================] - 21s 68ms/step - loss: 4.4729 - accuracy: 0.2039\n",
      "Epoch 11/100\n",
      "308/308 [==============================] - 18s 59ms/step - loss: 4.2662 - accuracy: 0.2212\n",
      "Epoch 12/100\n",
      "308/308 [==============================] - 17s 56ms/step - loss: 4.0660 - accuracy: 0.2351\n",
      "Epoch 13/100\n",
      "308/308 [==============================] - 18s 60ms/step - loss: 3.8722 - accuracy: 0.2564\n",
      "Epoch 14/100\n",
      "308/308 [==============================] - 21s 69ms/step - loss: 3.6854 - accuracy: 0.2819\n",
      "Epoch 15/100\n",
      "308/308 [==============================] - 17s 56ms/step - loss: 3.5001 - accuracy: 0.3019\n",
      "Epoch 16/100\n",
      "308/308 [==============================] - 21s 67ms/step - loss: 3.3250 - accuracy: 0.3284\n",
      "Epoch 17/100\n",
      "308/308 [==============================] - 19s 61ms/step - loss: 3.1529 - accuracy: 0.3533\n",
      "Epoch 18/100\n",
      "308/308 [==============================] - 18s 58ms/step - loss: 2.9858 - accuracy: 0.3883\n",
      "Epoch 19/100\n",
      "308/308 [==============================] - 21s 70ms/step - loss: 2.8219 - accuracy: 0.4218\n",
      "Epoch 20/100\n",
      "308/308 [==============================] - 23s 73ms/step - loss: 2.6648 - accuracy: 0.4550\n",
      "Epoch 21/100\n",
      "308/308 [==============================] - 22s 72ms/step - loss: 2.5127 - accuracy: 0.4897\n",
      "Epoch 22/100\n",
      "308/308 [==============================] - 20s 66ms/step - loss: 2.3707 - accuracy: 0.5203\n",
      "Epoch 23/100\n",
      "308/308 [==============================] - 18s 59ms/step - loss: 2.2302 - accuracy: 0.5510\n",
      "Epoch 24/100\n",
      "308/308 [==============================] - 17s 54ms/step - loss: 2.1016 - accuracy: 0.5771\n",
      "Epoch 25/100\n",
      "308/308 [==============================] - 21s 67ms/step - loss: 1.9786 - accuracy: 0.6037\n",
      "Epoch 26/100\n",
      "308/308 [==============================] - 19s 60ms/step - loss: 1.8617 - accuracy: 0.6266\n",
      "Epoch 27/100\n",
      "308/308 [==============================] - 17s 55ms/step - loss: 1.7566 - accuracy: 0.6527\n",
      "Epoch 28/100\n",
      "308/308 [==============================] - 21s 67ms/step - loss: 1.6544 - accuracy: 0.6756\n",
      "Epoch 29/100\n",
      "308/308 [==============================] - 22s 73ms/step - loss: 1.5656 - accuracy: 0.6934\n",
      "Epoch 30/100\n",
      "308/308 [==============================] - 18s 58ms/step - loss: 1.4768 - accuracy: 0.7101\n",
      "Epoch 31/100\n",
      "308/308 [==============================] - 18s 57ms/step - loss: 1.3972 - accuracy: 0.7279\n",
      "Epoch 32/100\n",
      "308/308 [==============================] - 17s 55ms/step - loss: 1.3231 - accuracy: 0.7401\n",
      "Epoch 33/100\n",
      "308/308 [==============================] - 17s 56ms/step - loss: 1.2528 - accuracy: 0.7555\n",
      "Epoch 34/100\n",
      "308/308 [==============================] - 18s 58ms/step - loss: 1.1868 - accuracy: 0.7679\n",
      "Epoch 35/100\n",
      "308/308 [==============================] - 19s 61ms/step - loss: 1.1258 - accuracy: 0.7808\n",
      "Epoch 36/100\n",
      "308/308 [==============================] - 18s 58ms/step - loss: 1.0671 - accuracy: 0.7915\n",
      "Epoch 37/100\n",
      "308/308 [==============================] - 19s 62ms/step - loss: 1.0148 - accuracy: 0.7987\n",
      "Epoch 38/100\n",
      "308/308 [==============================] - 20s 64ms/step - loss: 0.9628 - accuracy: 0.8118\n",
      "Epoch 39/100\n",
      "308/308 [==============================] - 18s 59ms/step - loss: 0.9158 - accuracy: 0.8218\n",
      "Epoch 40/100\n",
      "308/308 [==============================] - 19s 62ms/step - loss: 0.8705 - accuracy: 0.8313\n",
      "Epoch 41/100\n",
      "308/308 [==============================] - 19s 62ms/step - loss: 0.8302 - accuracy: 0.8398\n",
      "Epoch 42/100\n",
      "308/308 [==============================] - 18s 59ms/step - loss: 0.7911 - accuracy: 0.8462\n",
      "Epoch 43/100\n",
      "308/308 [==============================] - 20s 64ms/step - loss: 0.7538 - accuracy: 0.8540\n",
      "Epoch 44/100\n",
      "308/308 [==============================] - 20s 65ms/step - loss: 0.7211 - accuracy: 0.8598\n",
      "Epoch 45/100\n",
      "308/308 [==============================] - 17s 54ms/step - loss: 0.6876 - accuracy: 0.8634\n",
      "Epoch 46/100\n",
      "308/308 [==============================] - 18s 58ms/step - loss: 0.6588 - accuracy: 0.8687\n",
      "Epoch 47/100\n",
      "308/308 [==============================] - 19s 62ms/step - loss: 0.6314 - accuracy: 0.8728\n",
      "Epoch 48/100\n",
      "308/308 [==============================] - 17s 56ms/step - loss: 0.6056 - accuracy: 0.8768\n",
      "Epoch 49/100\n",
      "308/308 [==============================] - 16s 53ms/step - loss: 0.5814 - accuracy: 0.8791\n",
      "Epoch 50/100\n",
      "308/308 [==============================] - 16s 53ms/step - loss: 0.5591 - accuracy: 0.8835\n",
      "Epoch 51/100\n",
      "308/308 [==============================] - 16s 53ms/step - loss: 0.5381 - accuracy: 0.8858\n",
      "Epoch 52/100\n",
      "308/308 [==============================] - 16s 53ms/step - loss: 0.5197 - accuracy: 0.8895\n",
      "Epoch 53/100\n",
      "308/308 [==============================] - 16s 53ms/step - loss: 0.5023 - accuracy: 0.8907\n",
      "Epoch 54/100\n",
      "308/308 [==============================] - 16s 52ms/step - loss: 0.4867 - accuracy: 0.8929\n",
      "Epoch 55/100\n",
      "308/308 [==============================] - 16s 52ms/step - loss: 0.4717 - accuracy: 0.8946\n",
      "Epoch 56/100\n",
      "308/308 [==============================] - 16s 52ms/step - loss: 0.4589 - accuracy: 0.8963\n",
      "Epoch 57/100\n",
      "308/308 [==============================] - 16s 52ms/step - loss: 0.4438 - accuracy: 0.8967\n",
      "Epoch 58/100\n",
      "308/308 [==============================] - 16s 52ms/step - loss: 0.4330 - accuracy: 0.8981\n",
      "Epoch 59/100\n",
      "308/308 [==============================] - 16s 52ms/step - loss: 0.4226 - accuracy: 0.8983\n",
      "Epoch 60/100\n",
      "308/308 [==============================] - 16s 52ms/step - loss: 0.4124 - accuracy: 0.8993\n",
      "Epoch 61/100\n",
      "308/308 [==============================] - 16s 52ms/step - loss: 0.4025 - accuracy: 0.8978\n",
      "Epoch 62/100\n",
      "308/308 [==============================] - 16s 53ms/step - loss: 0.3930 - accuracy: 0.9004\n",
      "Epoch 63/100\n",
      "308/308 [==============================] - 16s 52ms/step - loss: 0.3864 - accuracy: 0.9026\n",
      "Epoch 64/100\n",
      "308/308 [==============================] - 16s 53ms/step - loss: 0.3800 - accuracy: 0.9008\n",
      "Epoch 65/100\n",
      "308/308 [==============================] - 16s 52ms/step - loss: 0.3723 - accuracy: 0.9022\n",
      "Epoch 66/100\n",
      "308/308 [==============================] - 17s 54ms/step - loss: 0.3659 - accuracy: 0.9036\n",
      "Epoch 67/100\n",
      "308/308 [==============================] - 16s 53ms/step - loss: 0.3601 - accuracy: 0.9010\n",
      "Epoch 68/100\n",
      "308/308 [==============================] - 16s 53ms/step - loss: 0.3550 - accuracy: 0.9024\n",
      "Epoch 69/100\n",
      "308/308 [==============================] - 16s 53ms/step - loss: 0.3532 - accuracy: 0.9023\n",
      "Epoch 70/100\n",
      "308/308 [==============================] - 16s 53ms/step - loss: 0.3472 - accuracy: 0.9020\n",
      "Epoch 71/100\n",
      "308/308 [==============================] - 16s 52ms/step - loss: 0.3418 - accuracy: 0.9033\n",
      "Epoch 72/100\n",
      "308/308 [==============================] - 17s 54ms/step - loss: 0.3381 - accuracy: 0.9030\n",
      "Epoch 73/100\n",
      "308/308 [==============================] - 21s 68ms/step - loss: 0.3353 - accuracy: 0.9036\n",
      "Epoch 74/100\n",
      "308/308 [==============================] - 16s 53ms/step - loss: 0.3329 - accuracy: 0.9017\n",
      "Epoch 75/100\n",
      "308/308 [==============================] - 19s 61ms/step - loss: 0.3283 - accuracy: 0.9028\n",
      "Epoch 76/100\n",
      "308/308 [==============================] - 16s 53ms/step - loss: 0.3273 - accuracy: 0.9036\n",
      "Epoch 77/100\n",
      "308/308 [==============================] - 16s 53ms/step - loss: 0.3232 - accuracy: 0.9032\n",
      "Epoch 78/100\n",
      "308/308 [==============================] - 16s 52ms/step - loss: 0.3214 - accuracy: 0.9025\n",
      "Epoch 79/100\n",
      "308/308 [==============================] - 16s 53ms/step - loss: 0.3193 - accuracy: 0.9012\n",
      "Epoch 80/100\n",
      "308/308 [==============================] - 19s 60ms/step - loss: 0.3169 - accuracy: 0.9033\n",
      "Epoch 81/100\n",
      "308/308 [==============================] - 18s 57ms/step - loss: 0.3140 - accuracy: 0.9038\n",
      "Epoch 82/100\n",
      "308/308 [==============================] - 17s 55ms/step - loss: 0.3127 - accuracy: 0.9033\n",
      "Epoch 83/100\n",
      "308/308 [==============================] - 18s 60ms/step - loss: 0.3118 - accuracy: 0.9037\n",
      "Epoch 84/100\n",
      "308/308 [==============================] - 17s 55ms/step - loss: 0.3104 - accuracy: 0.9014\n",
      "Epoch 85/100\n",
      "308/308 [==============================] - 17s 56ms/step - loss: 0.3083 - accuracy: 0.9035\n",
      "Epoch 86/100\n",
      "308/308 [==============================] - 17s 56ms/step - loss: 0.3072 - accuracy: 0.9014\n",
      "Epoch 87/100\n",
      "308/308 [==============================] - 18s 58ms/step - loss: 0.3048 - accuracy: 0.9022\n",
      "Epoch 88/100\n",
      "308/308 [==============================] - 17s 56ms/step - loss: 0.3062 - accuracy: 0.9013\n",
      "Epoch 89/100\n",
      "308/308 [==============================] - 17s 56ms/step - loss: 0.3086 - accuracy: 0.9012\n",
      "Epoch 90/100\n",
      "308/308 [==============================] - 17s 54ms/step - loss: 0.3046 - accuracy: 0.9023\n",
      "Epoch 91/100\n",
      "308/308 [==============================] - 17s 55ms/step - loss: 0.3014 - accuracy: 0.9033\n",
      "Epoch 92/100\n",
      "308/308 [==============================] - 17s 55ms/step - loss: 0.2986 - accuracy: 0.9032\n",
      "Epoch 93/100\n",
      "308/308 [==============================] - 17s 55ms/step - loss: 0.2990 - accuracy: 0.9022\n",
      "Epoch 94/100\n",
      "308/308 [==============================] - 17s 56ms/step - loss: 0.2976 - accuracy: 0.9028\n",
      "Epoch 95/100\n",
      "308/308 [==============================] - 17s 57ms/step - loss: 0.2976 - accuracy: 0.9033\n",
      "Epoch 96/100\n",
      "308/308 [==============================] - 20s 65ms/step - loss: 0.2966 - accuracy: 0.9020\n",
      "Epoch 97/100\n",
      "308/308 [==============================] - 19s 61ms/step - loss: 0.2956 - accuracy: 0.9036\n",
      "Epoch 98/100\n",
      "308/308 [==============================] - 18s 58ms/step - loss: 0.2974 - accuracy: 0.9014\n",
      "Epoch 99/100\n",
      "308/308 [==============================] - 18s 59ms/step - loss: 0.2987 - accuracy: 0.9034\n",
      "Epoch 100/100\n",
      "308/308 [==============================] - 18s 57ms/step - loss: 0.2949 - accuracy: 0.9048\n"
     ]
    },
    {
     "data": {
      "text/plain": [
       "<keras.callbacks.History at 0x1f3b6bf6100>"
      ]
     },
     "execution_count": 21,
     "metadata": {},
     "output_type": "execute_result"
    }
   ],
   "source": [
    "model.fit(x, y, epochs=100, verbose=1)"
   ]
  },
  {
   "cell_type": "code",
   "execution_count": 22,
   "metadata": {
    "colab": {
     "base_uri": "https://localhost:8080/",
     "height": 699
    },
    "id": "aczHhn_PGpxD",
    "outputId": "a095cf62-cf20-4ee9-836b-ca4e14ef2dc6"
   },
   "outputs": [
    {
     "name": "stderr",
     "output_type": "stream",
     "text": [
      "C:\\py\\lib\\site-packages\\sklearn\\manifold\\_t_sne.py:780: FutureWarning: The default initialization in TSNE will change from 'random' to 'pca' in 1.2.\n",
      "  warnings.warn(\n",
      "C:\\py\\lib\\site-packages\\sklearn\\manifold\\_t_sne.py:790: FutureWarning: The default learning rate in TSNE will change from 200.0 to 'auto' in 1.2.\n",
      "  warnings.warn(\n"
     ]
    },
    {
     "data": {
      "image/png": "[encoded data removed]",
      "text/plain": [
       "<Figure size 720x576 with 1 Axes>"
      ]
     },
     "metadata": {
      "needs_background": "light"
     },
     "output_type": "display_data"
    }
   ],
   "source": [
    "from sklearn.manifold import TSNE\n",
    "embeddings = model.layers[0].get_weights()[0]\n",
    "tsne = TSNE(n_components=2, random_state=0)\n",
    "words_compressed = tsne.fit_transform(embeddings)\n",
    "\n",
    "plt.figure(figsize=(10, 8))\n",
    "plt.scatter(words_compressed[:, 0], words_compressed[:, 1])\n",
    "plt.title('t-SNE visualization of word embeddings')\n",
    "plt.show()"
   ]
  },
  {
   "cell_type": "markdown",
   "metadata": {
    "id": "pIEVv_PQr6bS"
   },
   "source": [
    "### **Function to generate a Joke**\n",
    "\n",
    "---\n",
    "\n"
   ]
  },
  {
   "cell_type": "code",
   "execution_count": 29,
   "metadata": {
    "id": "QbuYiBVwsARs"
   },
   "outputs": [],
   "source": [
    "def generate_joke(seed_text, next_words, model, max_sequence_len):\n",
    "  for _ in range(next_words):\n",
    "        token_list = tokenizer.texts_to_sequences([seed_text])[0]\n",
    "        token_list = pad_sequences([token_list], maxlen=max_sequence_len-1, padding='pre')\n",
    "        predicted_probs = model.predict(token_list, verbose=0)\n",
    "\n",
    "        # Choose the word with the highest probability\n",
    "        predicted_index = np.argmax(predicted_probs)\n",
    "\n",
    "        output_word = \"\"\n",
    "        for word, index in tokenizer.word_index.items():\n",
    "            if index == predicted_index:\n",
    "                output_word = word\n",
    "                break\n",
    "        seed_text += \" \" + output_word\n",
    "  return seed_text"
   ]
  },
  {
   "cell_type": "code",
   "execution_count": 30,
   "metadata": {
    "colab": {
     "base_uri": "https://localhost:8080/"
    },
    "id": "KHrmBS_u5Ywr",
    "outputId": "1886bad4-c243-4821-8e84-02528d93c0bb"
   },
   "outputs": [
    {
     "name": "stdout",
     "output_type": "stream",
     "text": [
      "Generated Joke: What do you call someone with no nose and no body nobody knows\n"
     ]
    }
   ],
   "source": [
    "seed_text = \"What do you call someone\"\n",
    "generated_joke = generate_joke(seed_text, next_words=8, model=model, max_sequence_len=max_sequence_length)\n",
    "print(\"Generated Joke:\", generated_joke)"
   ]
  },
  {
   "cell_type": "code",
   "execution_count": null,
   "metadata": {
    "id": "DHINiPB7JNoy"
   },
   "outputs": [],
   "source": []
  }
 ],
 "metadata": {
  "colab": {
   "provenance": []
  },
  "kernelspec": {
   "display_name": "Python 3 (ipykernel)",
   "language": "python",
   "name": "python3"
  },
  "language_info": {
   "codemirror_mode": {
    "name": "ipython",
    "version": 3
   },
   "file_extension": ".py",
   "mimetype": "text/x-python",
   "name": "python",
   "nbconvert_exporter": "python",
   "pygments_lexer": "ipython3",
   "version": "3.9.12"
  }
 },
 "nbformat": 4,
 "nbformat_minor": 1
}
